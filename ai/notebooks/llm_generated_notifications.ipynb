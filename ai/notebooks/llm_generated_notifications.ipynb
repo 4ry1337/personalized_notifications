{
 "cells": [
  {
   "cell_type": "markdown",
   "id": "a32fb8e5",
   "metadata": {},
   "source": [
    "# Setting set up"
   ]
  },
  {
   "cell_type": "code",
   "execution_count": 40,
   "id": "aead354e",
   "metadata": {},
   "outputs": [
    {
     "name": "stdout",
     "output_type": "stream",
     "text": [
      "Requirement already satisfied: openai in /opt/anaconda3/lib/python3.13/site-packages (1.107.2)\n",
      "Requirement already satisfied: anyio<5,>=3.5.0 in /opt/anaconda3/lib/python3.13/site-packages (from openai) (4.7.0)\n",
      "Requirement already satisfied: distro<2,>=1.7.0 in /opt/anaconda3/lib/python3.13/site-packages (from openai) (1.9.0)\n",
      "Requirement already satisfied: httpx<1,>=0.23.0 in /opt/anaconda3/lib/python3.13/site-packages (from openai) (0.28.1)\n",
      "Requirement already satisfied: jiter<1,>=0.4.0 in /opt/anaconda3/lib/python3.13/site-packages (from openai) (0.10.0)\n",
      "Requirement already satisfied: pydantic<3,>=1.9.0 in /opt/anaconda3/lib/python3.13/site-packages (from openai) (2.10.3)\n",
      "Requirement already satisfied: sniffio in /opt/anaconda3/lib/python3.13/site-packages (from openai) (1.3.0)\n",
      "Requirement already satisfied: tqdm>4 in /opt/anaconda3/lib/python3.13/site-packages (from openai) (4.67.1)\n",
      "Requirement already satisfied: typing-extensions<5,>=4.11 in /opt/anaconda3/lib/python3.13/site-packages (from openai) (4.12.2)\n",
      "Requirement already satisfied: idna>=2.8 in /opt/anaconda3/lib/python3.13/site-packages (from anyio<5,>=3.5.0->openai) (3.7)\n",
      "Requirement already satisfied: certifi in /opt/anaconda3/lib/python3.13/site-packages (from httpx<1,>=0.23.0->openai) (2025.6.15)\n",
      "Requirement already satisfied: httpcore==1.* in /opt/anaconda3/lib/python3.13/site-packages (from httpx<1,>=0.23.0->openai) (1.0.9)\n",
      "Requirement already satisfied: h11>=0.16 in /opt/anaconda3/lib/python3.13/site-packages (from httpcore==1.*->httpx<1,>=0.23.0->openai) (0.16.0)\n",
      "Requirement already satisfied: annotated-types>=0.6.0 in /opt/anaconda3/lib/python3.13/site-packages (from pydantic<3,>=1.9.0->openai) (0.6.0)\n",
      "Requirement already satisfied: pydantic-core==2.27.1 in /opt/anaconda3/lib/python3.13/site-packages (from pydantic<3,>=1.9.0->openai) (2.27.1)\n"
     ]
    }
   ],
   "source": [
    "!pip install openai"
   ]
  },
  {
   "cell_type": "code",
   "execution_count": 41,
   "id": "b5f9b3e4",
   "metadata": {},
   "outputs": [],
   "source": [
    "import os\n",
    "from dotenv import load_dotenv\n",
    "\n",
    "# Loading environment variables from a .env file\n",
    "load_dotenv()\n",
    "\n",
    "# Setting api key for the openai\n",
    "open_ai_key = os.getenv(\"OPEN_AI_KEY\")\n"
   ]
  },
  {
   "cell_type": "markdown",
   "id": "9a5286c8",
   "metadata": {},
   "source": [
    "**System prompt**"
   ]
  },
  {
   "cell_type": "code",
   "execution_count": 44,
   "id": "ca342eba",
   "metadata": {},
   "outputs": [],
   "source": [
    "system_prompt = \"\"\"Вы — копирайтер, который пишет персонализированные пуш-уведомления для финансовых продуктов.  \n",
    "На вход вы получаете JSON с информацией о клиенте: имя, возраст, город, статус, название продукта, сумма потенциальной выгоды в ₸ (score_kzt).  \n",
    "\n",
    "### Входные данные в JSON формате\n",
    "{\n",
    "  \"client_code\": 1024,\n",
    "  \"name\": \"Айгерим\",\n",
    "  \"status\": \"Премиальный клиент\",\n",
    "  \"age\": 29,\n",
    "  \"avg_monthly_balance_KZT\": 1850000,\n",
    "  \"product\": \"Кредитная карта\",\n",
    "  \"benefit\": 71940.65,\n",
    "  \"top3_categories\": [\"кафе и рестораны\", \"онлайн-сервисы\", \"косметика\"]\n",
    "}\n",
    "---\n",
    "\n",
    "\n",
    "### Ваша задача\n",
    "Сформировать **одно креативное пуш-уведомление длиной 180–220 символов**, которое:\n",
    "1. Начинается с личного контекста, основанного на поведении или тратах клиента.  \n",
    "2. Объясняет, как конкретный продукт решает задачу и какую пользу даёт, органично упоминая потенциальную выгоду (benefit).  \n",
    "3. Учитывает возраст, город и статус клиента для стилистики и акцентов.  \n",
    "4. Сообщение должно быть живым и креативным, а не механически вставленным по шаблону.  \n",
    "\n",
    "---\n",
    "\n",
    "### Тон общения\n",
    "- Обращение на «вы» (с маленькой буквы).  \n",
    "- Дружелюбно и понятно, без канцеляризмов.  \n",
    "- Важное — в начало.  \n",
    "- Допустим лёгкий юмор или одно уместное эмодзи.  \n",
    "- По возрасту:  \n",
    "  • 18–30 → энергичнее, проще;  \n",
    "  • 31–45 → нейтрально-деловой, тёплый;  \n",
    "  • 46+ → спокойный, с акцентом на надёжность.  \n",
    "- По статусу:  \n",
    "  • Зарплатный клиент → подчеркнуть удобство и выгоду «прямо с зарплаты».  \n",
    "  • Премиальный клиент → акцент на эксклюзивность и привилегии.  \n",
    "  • Стандартный клиент → практичность и выгода.  \n",
    "  • Студент → лёгкий тон, упор на экономию и гибкость.  \n",
    "- Максимум один восклицательный знак.  \n",
    "\n",
    "---\n",
    "\n",
    "### Стиль и формат\n",
    "- Длина строго 180–220 символов.  \n",
    "- Числа: разряды через пробел, дроби через запятую (например: 2 490,50).  \n",
    "- Валюта: «₸» через пробел (например: 24 000 ₸).  \n",
    "- Даты: дд.мм.гггг или «30 августа 2025».  \n",
    "- Ссылки/кнопки: глаголы действия («Открыть», «Посмотреть», «Настроить»).  \n",
    "- Избегать давления, громких обещаний и искусственного дефицита.  \n",
    "\n",
    "---\n",
    "\n",
    "### Важные уточнения\n",
    "- Если выгода указана (score_kzt), это **потенциал**. Используйте формулировки:  \n",
    "  «можете сэкономить», «сэкономите до», «вернётся кешбэком», «ожидаемая выгода».  \n",
    "  **Не используйте**: «уже сэкономили», «вы получили».  \n",
    "- Всегда указывайте точное название продукта (`product_name`). Не заменяйте абстрактными описаниями («с премиальным сервисом»).  \n",
    "- Обязательно уточните, за счёт чего клиент получает выгоду (например: поездки, рестораны, онлайн-покупки).  \n",
    "- Не брать benefit информация для продуктов: Инфестиции, Золотые слитки, Кредит наличными\n",
    "- Оставляй категории в сообщении только тогда когда это уместно по продукту.\n",
    "\n",
    "\n",
    "### Описание продуктов (для понимания контекста)\n",
    "(Карта для путешествий, Премиальная карта, Кредитная карта, Обмен валют, Кредит наличными, Депозит мультивалютный, Депозит сберегательный, Депозит накопительный, Инвестиции, Золотые слитки — со всеми характеристиками и целевой аудиторией).  \n",
    "\n",
    "---\n",
    "\n",
    "### Адаптация\n",
    "- Используйте описания продуктов как основу для объяснения пользы.  \n",
    "- Органично вплетите выгоду (score_kzt) в текст.  \n",
    "- Эмодзи — максимум одно, только если усиливает смысл.  \n",
    "- Итог: одно пуш-уведомление длиной 180–220 символов.  \"\"\""
   ]
  },
  {
   "cell_type": "markdown",
   "id": "00b2d049",
   "metadata": {},
   "source": [
    "**Client creation and example prompt**"
   ]
  },
  {
   "cell_type": "code",
   "execution_count": 43,
   "id": "b1d55e92",
   "metadata": {},
   "outputs": [
    {
     "name": "stdout",
     "output_type": "stream",
     "text": [
      "Алина, вы часто бываете в кафе,\n",
      "покупаете продукты и готовите дома — ваш\n",
      "ритм требует гибкости. Кредит наличными\n",
      "помогает не сбавлять темп: удобное\n",
      "оформление и сумма под любые планы.\n",
      "Проверьте условия!\n"
     ]
    }
   ],
   "source": [
    "from openai import OpenAI\n",
    "import textwrap\n",
    "import pandas as pd\n",
    "import json\n",
    "\n",
    "# Client initialization\n",
    "client = OpenAI(api_key=open_ai_key)\n",
    "\n",
    "# One example from ranked df\n",
    "clients_df = pd.read_csv(\"../dataset/bank_data/case 1/clients.csv\")\n",
    "\n",
    "# Best scores\n",
    "scores = pd.read_csv(\"../dataset/bank_data/processed_data/submission.csv\")\n",
    "\n",
    "# Spends on categories\n",
    "pre_final_df = pd.read_csv(\"../dataset/bank_data/processed_data/pre_final_df.csv\")\n",
    "\n",
    "# Merging to get client details\n",
    "final_df = scores.merge(pre_final_df, on=\"client_code\")\n",
    "final_df.drop([\"city\"], axis=1, inplace=True)\n",
    "# One exmaple\n",
    "example = final_df.iloc[12].to_json()\n",
    "\n",
    "\n",
    "response = client.chat.completions.create(\n",
    "    model=\"gpt-4.1\",\n",
    "    messages=[\n",
    "        {\"role\": \"system\", \"content\": system_prompt},\n",
    "        {\"role\": \"user\", \"content\": example}\n",
    "    ]\n",
    ")\n",
    "\n",
    "# Correct way to access message content\n",
    "print(textwrap.fill(response.choices[0].message.content, width=40))\n"
   ]
  }
 ],
 "metadata": {
  "kernelspec": {
   "display_name": "base",
   "language": "python",
   "name": "python3"
  },
  "language_info": {
   "codemirror_mode": {
    "name": "ipython",
    "version": 3
   },
   "file_extension": ".py",
   "mimetype": "text/x-python",
   "name": "python",
   "nbconvert_exporter": "python",
   "pygments_lexer": "ipython3",
   "version": "3.13.5"
  }
 },
 "nbformat": 4,
 "nbformat_minor": 5
}
